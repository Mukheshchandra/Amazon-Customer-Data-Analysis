{
 "cells": [
  {
   "cell_type": "code",
   "execution_count": 1,
   "id": "053474b0",
   "metadata": {},
   "outputs": [],
   "source": [
    "import pandas as pd\n",
    "import numpy as np\n",
    "import matplotlib.pyplot as plt\n",
    "import seaborn as sns\n",
    "import sqlite3"
   ]
  },
  {
   "cell_type": "code",
   "execution_count": 2,
   "id": "23c71c7d",
   "metadata": {},
   "outputs": [
    {
     "ename": "SyntaxError",
     "evalue": "(unicode error) 'unicodeescape' codec can't decode bytes in position 2-3: truncated \\UXXXXXXXX escape (1991821405.py, line 1)",
     "output_type": "error",
     "traceback": [
      "\u001b[1;36m  Input \u001b[1;32mIn [2]\u001b[1;36m\u001b[0m\n\u001b[1;33m    con = sqlite3.connect('C:\\Users\\USER\\OneDrive\\Desktop\\projects\\amazoncustomerdata\\database.sqlite')\u001b[0m\n\u001b[1;37m                                                                                                      ^\u001b[0m\n\u001b[1;31mSyntaxError\u001b[0m\u001b[1;31m:\u001b[0m (unicode error) 'unicodeescape' codec can't decode bytes in position 2-3: truncated \\UXXXXXXXX escape\n"
     ]
    }
   ],
   "source": [
    "con = sqlite3.connect('C:\\Users\\USER\\OneDrive\\Desktop\\projects\\amazoncustomerdata\\database.sqlite')"
   ]
  },
  {
   "cell_type": "code",
   "execution_count": null,
   "id": "6b827d59",
   "metadata": {},
   "outputs": [],
   "source": [
    "df = pd.read_sql_query('SELECT * FROM Reviews', con)"
   ]
  },
  {
   "cell_type": "code",
   "execution_count": null,
   "id": "e5db8ebf",
   "metadata": {},
   "outputs": [],
   "source": [
    "df"
   ]
  },
  {
   "cell_type": "code",
   "execution_count": null,
   "id": "38e99b7c",
   "metadata": {
    "scrolled": true
   },
   "outputs": [],
   "source": [
    "!pip install TextBlob"
   ]
  },
  {
   "cell_type": "code",
   "execution_count": null,
   "id": "c4004873",
   "metadata": {},
   "outputs": [],
   "source": [
    "from textblob import TextBlob"
   ]
  },
  {
   "cell_type": "code",
   "execution_count": null,
   "id": "ba95eb18",
   "metadata": {},
   "outputs": [],
   "source": [
    "text = df['Summary'][0]\n",
    "text"
   ]
  },
  {
   "cell_type": "code",
   "execution_count": null,
   "id": "8e99e2fd",
   "metadata": {},
   "outputs": [],
   "source": [
    "TextBlob(text).sentiment.polarity"
   ]
  },
  {
   "cell_type": "code",
   "execution_count": null,
   "id": "12406b31",
   "metadata": {},
   "outputs": [],
   "source": [
    "polarity =[]\n",
    "for i in df['Summary']:\n",
    "    try:\n",
    "        polarity.append(TextBlob(i).sentiment.polarity)\n",
    "    except:\n",
    "        polarity.append(0)"
   ]
  },
  {
   "cell_type": "code",
   "execution_count": null,
   "id": "a1347255",
   "metadata": {},
   "outputs": [],
   "source": [
    "len(polarity)"
   ]
  },
  {
   "cell_type": "code",
   "execution_count": null,
   "id": "46873d2c",
   "metadata": {},
   "outputs": [],
   "source": [
    "df1 = df.copy()\n"
   ]
  },
  {
   "cell_type": "code",
   "execution_count": null,
   "id": "b7e918ed",
   "metadata": {},
   "outputs": [],
   "source": [
    "df1['Polarity'] = polarity"
   ]
  },
  {
   "cell_type": "code",
   "execution_count": null,
   "id": "483a4df6",
   "metadata": {
    "scrolled": true
   },
   "outputs": [],
   "source": [
    "df1.head()"
   ]
  },
  {
   "cell_type": "code",
   "execution_count": null,
   "id": "00f317fc",
   "metadata": {},
   "outputs": [],
   "source": [
    "df1_positive = df1[df1['Polarity']>0]"
   ]
  },
  {
   "cell_type": "code",
   "execution_count": null,
   "id": "d296ca90",
   "metadata": {},
   "outputs": [],
   "source": [
    "df1_positive.shape"
   ]
  },
  {
   "cell_type": "code",
   "execution_count": null,
   "id": "a53fccbc",
   "metadata": {},
   "outputs": [],
   "source": [
    "!pip install wordcloud"
   ]
  },
  {
   "cell_type": "code",
   "execution_count": null,
   "id": "38a4e0f4",
   "metadata": {},
   "outputs": [],
   "source": [
    "from wordcloud import WordCloud,STOPWORDS"
   ]
  },
  {
   "cell_type": "code",
   "execution_count": null,
   "id": "c1604da8",
   "metadata": {},
   "outputs": [],
   "source": [
    "stopwords = set(STOPWORDS)"
   ]
  },
  {
   "cell_type": "code",
   "execution_count": null,
   "id": "56f2d234",
   "metadata": {},
   "outputs": [],
   "source": [
    "df1_positive.head()"
   ]
  },
  {
   "cell_type": "code",
   "execution_count": null,
   "id": "da9169f0",
   "metadata": {},
   "outputs": [],
   "source": [
    "total_text = (\" \".join(df1_positive['Summary']))"
   ]
  },
  {
   "cell_type": "code",
   "execution_count": null,
   "id": "dbd6de85",
   "metadata": {},
   "outputs": [],
   "source": [
    " len(total_text)"
   ]
  },
  {
   "cell_type": "code",
   "execution_count": null,
   "id": "657e7b50",
   "metadata": {},
   "outputs": [],
   "source": [
    "total_text[0:10000]"
   ]
  },
  {
   "cell_type": "code",
   "execution_count": null,
   "id": "840cdfff",
   "metadata": {},
   "outputs": [],
   "source": [
    "import re"
   ]
  },
  {
   "cell_type": "code",
   "execution_count": null,
   "id": "1b1f2965",
   "metadata": {},
   "outputs": [],
   "source": [
    "total_text = re.sub('[^a-zA-Z]',' ',total_text)"
   ]
  },
  {
   "cell_type": "code",
   "execution_count": null,
   "id": "f279dde9",
   "metadata": {},
   "outputs": [],
   "source": [
    "total_text[0:20000]"
   ]
  },
  {
   "cell_type": "code",
   "execution_count": null,
   "id": "55006e8b",
   "metadata": {},
   "outputs": [],
   "source": [
    "total_text = re.sub(' +',' ',total_text)"
   ]
  },
  {
   "cell_type": "code",
   "execution_count": null,
   "id": "ac3c26f8",
   "metadata": {},
   "outputs": [],
   "source": [
    "total_text[0:20000]"
   ]
  },
  {
   "cell_type": "code",
   "execution_count": null,
   "id": "a091b067",
   "metadata": {
    "scrolled": true
   },
   "outputs": [],
   "source": [
    "wordcloud=WordCloud(width =1000,height=500,stopwords=stopwords).generate(total_text)\n",
    "plt.figure(figsize=(15,5))\n",
    "plt.imshow(wordcloud)\n",
    "plt.axis('off')"
   ]
  },
  {
   "cell_type": "code",
   "execution_count": null,
   "id": "404acb60",
   "metadata": {},
   "outputs": [],
   "source": [
    "df1_negative = df1[df1['Polarity']<0]"
   ]
  },
  {
   "cell_type": "code",
   "execution_count": null,
   "id": "ca8880d8",
   "metadata": {},
   "outputs": [],
   "source": [
    "df1_negative.shape"
   ]
  },
  {
   "cell_type": "code",
   "execution_count": null,
   "id": "e9d934ea",
   "metadata": {},
   "outputs": [],
   "source": [
    "total_ntext = ' '.join(df1_negative['Summary'])"
   ]
  },
  {
   "cell_type": "code",
   "execution_count": null,
   "id": "aec2f5c6",
   "metadata": {},
   "outputs": [],
   "source": [
    "len(total_ntext)"
   ]
  },
  {
   "cell_type": "code",
   "execution_count": null,
   "id": "cec3fc27",
   "metadata": {},
   "outputs": [],
   "source": [
    "total_ntext[0:10000]"
   ]
  },
  {
   "cell_type": "code",
   "execution_count": null,
   "id": "9b37d9ae",
   "metadata": {},
   "outputs": [],
   "source": [
    "total_ntext = re.sub('[^a-zA-Z]',' ',total_ntext)"
   ]
  },
  {
   "cell_type": "code",
   "execution_count": null,
   "id": "3b7cb336",
   "metadata": {},
   "outputs": [],
   "source": [
    "total_ntext[0:20000]"
   ]
  },
  {
   "cell_type": "code",
   "execution_count": null,
   "id": "265c4f07",
   "metadata": {},
   "outputs": [],
   "source": [
    "total_ntext = re.sub(' +',' ',total_ntext)"
   ]
  },
  {
   "cell_type": "code",
   "execution_count": null,
   "id": "c3e79815",
   "metadata": {},
   "outputs": [],
   "source": [
    "total_ntext[0:20000]"
   ]
  },
  {
   "cell_type": "code",
   "execution_count": null,
   "id": "a3a42ece",
   "metadata": {},
   "outputs": [],
   "source": [
    "wordcloudn=WordCloud(width=1000,height=500,stopwords=stopwords).generate(total_ntext)"
   ]
  },
  {
   "cell_type": "code",
   "execution_count": null,
   "id": "86539728",
   "metadata": {},
   "outputs": [],
   "source": [
    "plt.figure(figsize=(15,5))\n",
    "plt.imshow(wordcloudn)\n",
    "plt.axis('off')"
   ]
  },
  {
   "cell_type": "code",
   "execution_count": null,
   "id": "7ab5b2b5",
   "metadata": {
    "scrolled": true
   },
   "outputs": [],
   "source": [
    "df.head()"
   ]
  },
  {
   "cell_type": "code",
   "execution_count": null,
   "id": "960fe0b2",
   "metadata": {},
   "outputs": [],
   "source": [
    "df['UserId'].nunique()"
   ]
  },
  {
   "cell_type": "code",
   "execution_count": null,
   "id": "cbcafd3a",
   "metadata": {},
   "outputs": [],
   "source": [
    "raw=df.groupby('UserId').agg({'Summary':'count','Text':'count','Score':'mean','ProductId':'count'}).sort_values(by='Text',ascending=False)"
   ]
  },
  {
   "cell_type": "code",
   "execution_count": null,
   "id": "48ae7556",
   "metadata": {},
   "outputs": [],
   "source": [
    "raw"
   ]
  },
  {
   "cell_type": "code",
   "execution_count": null,
   "id": "6d1ef73f",
   "metadata": {},
   "outputs": [],
   "source": [
    "raw.columns=['Number_of_summaries','Num_text','Avg_score','Num_of_Products']\n",
    "raw"
   ]
  },
  {
   "cell_type": "code",
   "execution_count": null,
   "id": "292a3956",
   "metadata": {},
   "outputs": [],
   "source": [
    "user_10 = raw.index[0:10]"
   ]
  },
  {
   "cell_type": "code",
   "execution_count": null,
   "id": "6b072df5",
   "metadata": {},
   "outputs": [],
   "source": [
    "products_10=raw['Num_of_Products'][0:10]"
   ]
  },
  {
   "cell_type": "code",
   "execution_count": null,
   "id": "6a82b191",
   "metadata": {},
   "outputs": [],
   "source": [
    "plt.bar(user_10,products_10,label ='most recommended users')\n",
    "plt.xlabel(\"UserID\")\n",
    "plt.ylabel(\"Number of products purchased\")\n",
    "plt.xticks(rotation='vertical')"
   ]
  },
  {
   "cell_type": "code",
   "execution_count": null,
   "id": "e5a01829",
   "metadata": {},
   "outputs": [],
   "source": [
    "final = df[0:2000]"
   ]
  },
  {
   "cell_type": "code",
   "execution_count": null,
   "id": "2b507d4c",
   "metadata": {},
   "outputs": [],
   "source": [
    "final.isnull().sum()"
   ]
  },
  {
   "cell_type": "code",
   "execution_count": null,
   "id": "b9947c99",
   "metadata": {},
   "outputs": [],
   "source": [
    "final.duplicated().sum()"
   ]
  },
  {
   "cell_type": "code",
   "execution_count": null,
   "id": "7a6daaeb",
   "metadata": {},
   "outputs": [],
   "source": [
    "len(final['Text'][0].split(\" \"))"
   ]
  },
  {
   "cell_type": "code",
   "execution_count": null,
   "id": "bba44b96",
   "metadata": {},
   "outputs": [],
   "source": [
    "def calc_len(text):\n",
    "    return len(text.split(' '))"
   ]
  },
  {
   "cell_type": "code",
   "execution_count": null,
   "id": "9dfcd27d",
   "metadata": {},
   "outputs": [],
   "source": [
    "final['Text_length']= final['Text'].apply(calc_len)"
   ]
  },
  {
   "cell_type": "code",
   "execution_count": null,
   "id": "dfaa75ab",
   "metadata": {},
   "outputs": [],
   "source": [
    "!pip install plotly"
   ]
  },
  {
   "cell_type": "code",
   "execution_count": null,
   "id": "40efdf47",
   "metadata": {},
   "outputs": [],
   "source": [
    "import plotly.express as px"
   ]
  },
  {
   "cell_type": "code",
   "execution_count": null,
   "id": "fdcfa687",
   "metadata": {},
   "outputs": [],
   "source": [
    "px.box(final,y='Text_length')"
   ]
  },
  {
   "cell_type": "code",
   "execution_count": null,
   "id": "f375c371",
   "metadata": {},
   "outputs": [],
   "source": [
    "sns.countplot(final['Score'])"
   ]
  },
  {
   "cell_type": "code",
   "execution_count": null,
   "id": "07df3f9a",
   "metadata": {},
   "outputs": [],
   "source": [
    "final['Text']=final['Text'].str.lower()"
   ]
  },
  {
   "cell_type": "code",
   "execution_count": null,
   "id": "8f3df635",
   "metadata": {},
   "outputs": [],
   "source": [
    "final['Text'][164]"
   ]
  },
  {
   "cell_type": "code",
   "execution_count": null,
   "id": "8f152b7b",
   "metadata": {},
   "outputs": [],
   "source": [
    "import re \n",
    "re.sub('[^a-zA-Z]',' ',final['Text'][164])"
   ]
  },
  {
   "cell_type": "code",
   "execution_count": null,
   "id": "604498ba",
   "metadata": {},
   "outputs": [],
   "source": [
    "punctuations = ''' !-_=+()[]{}@#$%^&*,.?;:\\/'''\n",
    "data = final['Text'][164]\n",
    "no_punc = ''\n",
    "for char in data:\n",
    "    if char not in punctuations:\n",
    "        no_punc = no_punc + char\n",
    "no_punc\n"
   ]
  },
  {
   "cell_type": "code",
   "execution_count": null,
   "id": "68fabb4f",
   "metadata": {},
   "outputs": [],
   "source": [
    "import string \n",
    "punctuations=string.punctuation\n",
    "\n",
    "def remove_punc(review):\n",
    "    no_punc=''\n",
    "    for char in review:\n",
    "        if char not in punctuations:\n",
    "            no_punc = no_punc+ char\n",
    "    return no_punc"
   ]
  },
  {
   "cell_type": "code",
   "execution_count": null,
   "id": "4c45299f",
   "metadata": {},
   "outputs": [],
   "source": [
    "final['Text']= final['Text'].apply(remove_punc)"
   ]
  },
  {
   "cell_type": "code",
   "execution_count": null,
   "id": "f982fff7",
   "metadata": {},
   "outputs": [],
   "source": [
    "final.head()"
   ]
  },
  {
   "cell_type": "code",
   "execution_count": null,
   "id": "d9ddbfb4",
   "metadata": {},
   "outputs": [],
   "source": [
    "data=final['Text'][164]\n",
    "data"
   ]
  },
  {
   "cell_type": "code",
   "execution_count": null,
   "id": "3b2d8027",
   "metadata": {},
   "outputs": [],
   "source": [
    "!pip install nltk"
   ]
  },
  {
   "cell_type": "code",
   "execution_count": null,
   "id": "53aceae9",
   "metadata": {},
   "outputs": [],
   "source": [
    "import nltk\n",
    "from nltk.corpus import stopwords\n",
    "nltk.download('stopwords')"
   ]
  },
  {
   "cell_type": "code",
   "execution_count": null,
   "id": "77023b19",
   "metadata": {},
   "outputs": [],
   "source": [
    "re = [word for word in data.split(' ') if word not in set(stopwords.words('english'))]\n",
    "str = ''\n",
    "for wd in re:\n",
    "    str = str+wd\n",
    "    str = str+' '\n",
    "str"
   ]
  },
  {
   "cell_type": "code",
   "execution_count": null,
   "id": "e0caddb5",
   "metadata": {},
   "outputs": [],
   "source": [
    "def remove_stopwords(review):\n",
    "    return' '.join([word for word in data.split(' ') if word not in set(stopwords.words('english'))])\n",
    "    "
   ]
  },
  {
   "cell_type": "code",
   "execution_count": null,
   "id": "1fc9fab0",
   "metadata": {},
   "outputs": [],
   "source": [
    "final['Text']= final['Text'].apply(remove_stopwords)"
   ]
  },
  {
   "cell_type": "code",
   "execution_count": null,
   "id": "829e1a3d",
   "metadata": {},
   "outputs": [],
   "source": [
    "final['Text'].str.contains('http').sum()"
   ]
  },
  {
   "cell_type": "code",
   "execution_count": null,
   "id": "9601e6f5",
   "metadata": {},
   "outputs": [],
   "source": [
    "final['Text'][265]"
   ]
  },
  {
   "cell_type": "code",
   "execution_count": null,
   "id": "59f9667d",
   "metadata": {},
   "outputs": [],
   "source": [
    "comment_words = ' '.join(final['Text'])"
   ]
  },
  {
   "cell_type": "code",
   "execution_count": null,
   "id": "abb130a4",
   "metadata": {},
   "outputs": [],
   "source": [
    "stopwords = set(STOPWORDS)"
   ]
  },
  {
   "cell_type": "code",
   "execution_count": null,
   "id": "c905cea3",
   "metadata": {},
   "outputs": [],
   "source": [
    "wordcloud = WordCloud(width =1000,height=1000,stopwords=stopwords).generate(comment_words)\n",
    "plt.figure(figsize=(8,8))\n",
    "plt.imshow(wordcloud)\n",
    "plt.axis('off')"
   ]
  },
  {
   "cell_type": "code",
   "execution_count": null,
   "id": "cbbceafe",
   "metadata": {},
   "outputs": [],
   "source": []
  }
 ],
 "metadata": {
  "kernelspec": {
   "display_name": "Python 3 (ipykernel)",
   "language": "python",
   "name": "python3"
  },
  "language_info": {
   "codemirror_mode": {
    "name": "ipython",
    "version": 3
   },
   "file_extension": ".py",
   "mimetype": "text/x-python",
   "name": "python",
   "nbconvert_exporter": "python",
   "pygments_lexer": "ipython3",
   "version": "3.9.12"
  }
 },
 "nbformat": 4,
 "nbformat_minor": 5
}
